{
  "nbformat": 4,
  "nbformat_minor": 0,
  "metadata": {
    "colab": {
      "provenance": [],
      "mount_file_id": "1gOJt71g8pvLGkeNrhZkkfuPFxtHbBw13",
      "authorship_tag": "ABX9TyMYV8syRJUG+6//rHCHu5MC",
      "include_colab_link": true
    },
    "kernelspec": {
      "name": "python3",
      "display_name": "Python 3"
    },
    "language_info": {
      "name": "python"
    },
    "accelerator": "TPU"
  },
  "cells": [
    {
      "cell_type": "markdown",
      "metadata": {
        "id": "view-in-github",
        "colab_type": "text"
      },
      "source": [
        "<a href=\"https://colab.research.google.com/github/lakatosgabor/dolgozo_ertekeles_nlp/blob/main/dolgozo_ertekeles_nlp.ipynb\" target=\"_parent\"><img src=\"https://colab.research.google.com/assets/colab-badge.svg\" alt=\"Open In Colab\"/></a>"
      ]
    },
    {
      "cell_type": "code",
      "source": [
        "!pip install transformers torch"
      ],
      "metadata": {
        "id": "4DAs7WqbeqTt"
      },
      "execution_count": null,
      "outputs": []
    },
    {
      "cell_type": "code",
      "source": [
        "import torch\n",
        "from transformers import AutoTokenizer, AutoModel\n",
        "import numpy as np\n",
        "import matplotlib.pyplot as plt\n",
        "\n",
        "from transformers import ViTFeatureExtractor, ViTModel\n",
        "from PIL import Image\n",
        "\n",
        "import seaborn as sns"
      ],
      "metadata": {
        "id": "J_qxhXejgcF-"
      },
      "execution_count": 2,
      "outputs": []
    },
    {
      "cell_type": "code",
      "source": [
        "model_name = \"NYTK/husst-puli-bert-large-hungarian\"   #NYTK/hucola-puli-bert-large-hungarian NYTK/husst-puli-bert-large-hungarian NYTK/hurte-puli-bert-large-hungarian\n",
        "tokenizer = AutoTokenizer.from_pretrained(model_name)\n",
        "model = AutoModel.from_pretrained(model_name)"
      ],
      "metadata": {
        "id": "2lgOP3MNgfGj"
      },
      "execution_count": 68,
      "outputs": []
    },
    {
      "cell_type": "code",
      "source": [
        "# Koszinus távolság számítása\n",
        "def cosine_distance(vector1, vector2):\n",
        "    dot_product = np.dot(vector1, vector2)\n",
        "    norm_vector1 = np.linalg.norm(vector1)\n",
        "    norm_vector2 = np.linalg.norm(vector2)\n",
        "    similarity = dot_product / (norm_vector1 * norm_vector2)\n",
        "    distance = 1 - similarity\n",
        "    return distance"
      ],
      "metadata": {
        "id": "lxE4U6Jfght2"
      },
      "execution_count": 69,
      "outputs": []
    },
    {
      "cell_type": "code",
      "source": [
        "# Szövegek, amelyeket be akarunk ágyazni\n",
        "# fizetés emelés | kirugás | oktatni kell\n",
        "texts = ['Amennyiben egy dolgozó kiemelkedő teljesítményt nyújtott a munkakörében és hozzájárult a cég sikeréhez, valamint megfelelő módon teljesítette az elvárt feladatait és célkitűzéseit, akkor indokolt lehet számára egy fizetés emelés megfontolása. Az értékelés során figyelembe kell venni a dolgozó teljesítményét, hozzáállását, munkabírását és az általa elért eredményeket, valamint összhangban kell lennie a cég jelenlegi politikájával és forrásai lehetőségeivel.',\n",
        "        'Egy alkalmazottat lehet ki kell rúgni, ha az általa nyújtott teljesítmény nem felel meg a munkakörére vagy a cég elvárásaira, és az erre irányuló visszajelzések vagy támogatás ellenére sem mutat javulást. Az alkalmazott visszaélést követ el, sérti a vállalati szabályzatot vagy etikai normákat, vagy olyan súlyosan megsérti a cég belső szabályait vagy az alkalmazotti szerződést, ami megengedhetetlen a folytatott munkaviszony szempontjából. Továbbá, ha az adott munkakör megszűnik vagy az alkalmazott nem képes vagy hajlandó megfelelni az új munkakör feltételeinek vagy elvárásainak, az is indokolhatja az elbocsátást.', 'Egy személyt oktatásra szorulónak tekinthetünk, ha az adott területen vagy témakörben hiányosságai vannak, és nincs megfelelő ismerete vagy készsége az elvárt szinten való teljesítményhez vagy hatékony munkavégzéshez. Az oktatásra szoruló személy általában nyitott az új ismeretek megszerzésére és fejlesztésére, és hajlandó tanulni és javítani a tudását vagy készségeit az adott területen. Emellett az oktatásra szoruló személy gyakran képes és hajlandó elfogadni segítséget, tanácsot vagy képzést annak érdekében, hogy fejlessze a tudását és készségeit.']"
      ],
      "metadata": {
        "id": "I78p-OThkYLZ"
      },
      "execution_count": 70,
      "outputs": []
    },
    {
      "cell_type": "code",
      "source": [
        "# Szövegek beágyazása\n",
        "text_embeddings = []\n",
        "for text in texts:\n",
        "    # Tokenizálás és modellezés\n",
        "    inputs = tokenizer(text, return_tensors=\"pt\", padding=True, truncation=False)\n",
        "    with torch.no_grad():\n",
        "        outputs = model(**inputs)\n",
        "    # Az utolsó réteg kimenetét használjuk vektorokként\n",
        "    vector = outputs.last_hidden_state.mean(dim=1).squeeze().numpy()\n",
        "    text_embeddings.append(vector)"
      ],
      "metadata": {
        "id": "aGtGtDZokMPx"
      },
      "execution_count": 84,
      "outputs": []
    },
    {
      "cell_type": "code",
      "source": [
        "text_embeddings2 = []\n",
        "# Tokenizálás és modellezés\n",
        "#ovális alakú, átlátszatlan, jelöletlen kapszula, a kupakja fehér, a teste szürkésfehér színű\n",
        "inputs = tokenizer(\"A dolgozó semmihet nem ért. Naponta többször cigizik. Sokat lóg a munkából. Rendszeresen elkésík. Feladatait nem tudja ellátni, rengeteg hibát vét.\", return_tensors=\"pt\", padding=True, truncation=False)\n",
        "with torch.no_grad():\n",
        "    outputs = model(**inputs)\n",
        "# Az utolsó réteg kimenetét használjuk vektorokként\n",
        "vector = outputs.last_hidden_state.mean(dim=1).squeeze().numpy()\n",
        "text_embeddings2.append(vector)\n",
        "\n",
        "# Koszinus távolságok számítása és normalizálása\n",
        "text_distances = []\n",
        "text_pairs = []\n",
        "\n",
        "for i, vec1 in enumerate(text_embeddings):\n",
        "    for j, vec2 in enumerate(text_embeddings2):\n",
        "        distance = cosine_distance(vec1, vec2)\n",
        "        text_distances.append(distance)\n",
        "        text_pairs.append((texts[i], texts[j]))\n",
        "\n",
        "\n",
        "# Normalizálás\n",
        "text_normalized_distances = (text_distances - np.min(text_distances)) / (np.max(text_distances) - np.min(text_distances))\n",
        "\n"
      ],
      "metadata": {
        "id": "rVXshkiagkwL"
      },
      "execution_count": 102,
      "outputs": []
    },
    {
      "cell_type": "code",
      "source": [
        "# Számok növekvő sorrendben\n",
        "rendezett_szamok = sorted(text_normalized_distances)\n",
        "\n",
        "# Számok szerinti indexek meghatározása\n",
        "indexek = sorted(range(len(text_normalized_distances)), key=lambda k: text_normalized_distances[k])\n",
        "\n",
        "# Szövegek átrendezése az indexek alapján\n",
        "rendezett_szovegek = [texts[i] for i in indexek]\n",
        "\n",
        "\n",
        "for i in range(3):\n",
        "  print(1 - rendezett_szamok[i], \"-\", rendezett_szovegek[i])\n"
      ],
      "metadata": {
        "colab": {
          "base_uri": "https://localhost:8080/"
        },
        "id": "FaZQM85GyIEL",
        "outputId": "07f12ae3-dd76-425f-a651-2453825a461e"
      },
      "execution_count": 103,
      "outputs": [
        {
          "output_type": "stream",
          "name": "stdout",
          "text": [
            "1.0 - Egy alkalmazottat lehet ki kell rúgni, ha az általa nyújtott teljesítmény nem felel meg a munkakörére vagy a cég elvárásaira, és az erre irányuló visszajelzések vagy támogatás ellenére sem mutat javulást. Az alkalmazott visszaélést követ el, sérti a vállalati szabályzatot vagy etikai normákat, vagy olyan súlyosan megsérti a cég belső szabályait vagy az alkalmazotti szerződést, ami megengedhetetlen a folytatott munkaviszony szempontjából. Továbbá, ha az adott munkakör megszűnik vagy az alkalmazott nem képes vagy hajlandó megfelelni az új munkakör feltételeinek vagy elvárásainak, az is indokolhatja az elbocsátást.\n",
            "0.35366006468315936 - Egy személyt oktatásra szorulónak tekinthetünk, ha az adott területen vagy témakörben hiányosságai vannak, és nincs megfelelő ismerete vagy készsége az elvárt szinten való teljesítményhez vagy hatékony munkavégzéshez. Az oktatásra szoruló személy általában nyitott az új ismeretek megszerzésére és fejlesztésére, és hajlandó tanulni és javítani a tudását vagy készségeit az adott területen. Emellett az oktatásra szoruló személy gyakran képes és hajlandó elfogadni segítséget, tanácsot vagy képzést annak érdekében, hogy fejlessze a tudását és készségeit.\n",
            "0.0 - Amennyiben egy dolgozó kiemelkedő teljesítményt nyújtott a munkakörében és hozzájárult a cég sikeréhez, valamint megfelelő módon teljesítette az elvárt feladatait és célkitűzéseit, akkor indokolt lehet számára egy fizetés emelés megfontolása. Az értékelés során figyelembe kell venni a dolgozó teljesítményét, hozzáállását, munkabírását és az általa elért eredményeket, valamint összhangban kell lennie a cég jelenlegi politikájával és forrásai lehetőségeivel.\n"
          ]
        }
      ]
    }
  ]
}